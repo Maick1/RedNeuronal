{
 "cells": [
  {
   "cell_type": "code",
   "execution_count": 1,
   "metadata": {},
   "outputs": [],
   "source": [
    "import numpy as np\n",
    "from tensorflow.keras.utils import load_img\n",
    "from tensorflow.keras.utils import img_to_array\n",
    "from keras.models import load_model"
   ]
  },
  {
   "cell_type": "code",
   "execution_count": 2,
   "metadata": {},
   "outputs": [
    {
     "name": "stdout",
     "output_type": "stream",
     "text": [
      "1/1 [==============================] - 0s 499ms/step\n",
      "\n",
      "Pred: Cultivo en Excelente estado\n",
      "1/1 [==============================] - 0s 40ms/step\n",
      "\n",
      "Pred: Pulgon\n",
      "Se Recomienda usar Aphox\n",
      "1/1 [==============================] - 0s 32ms/step\n",
      "\n",
      "Pred: Mosquito\n",
      "Se Recomienda usar Agroinco\n",
      "1/1 [==============================] - 0s 40ms/step\n",
      "\n",
      "Pred: Saltamones\n",
      "Se Recomienda usar Venerate\n",
      "1/1 [==============================] - 0s 40ms/step\n",
      "\n",
      "Pred: Mosquito\n",
      "Se Recomienda usar Agroinco\n",
      "1/1 [==============================] - 0s 42ms/step\n",
      "\n",
      "Pred: Escarabajo\n",
      "Se Recomienda usar Lexan\n",
      "1/1 [==============================] - 0s 40ms/step\n",
      "\n",
      "Pred: Barrenador de Tallo\n",
      "Se Recomienda usar Proclaim5\n"
     ]
    },
    {
     "data": {
      "text/plain": [
       "1"
      ]
     },
     "execution_count": 2,
     "metadata": {},
     "output_type": "execute_result"
    }
   ],
   "source": [
    "longitud, altura = 150, 150  ## se inicia con el mismo tamaño de las iamgenes\n",
    "modelo = './Modelo/modelo.P19'  #se llaman el  modelo guardado\n",
    "pesos_modelo = './Modelo/pesos.P19'  #se llaman peso guardado\n",
    "cnn = load_model(modelo) #a la varible se le carga el modelo\n",
    "cnn.load_weights(pesos_modelo) #el modelo que esta en cnn se carga los pesos\n",
    "\n",
    "def predict(file):  #recibe la imagen\n",
    "  x = load_img(file, target_size=(longitud, altura)) #se carga la iamgen en x\n",
    "  x = img_to_array(x) #se convierte en arreglo\n",
    "  x = np.expand_dims(x, axis=0) #primera dimension se añade otra dimension []\n",
    "  array = cnn.predict(x) #arreglo de dos dimensiones [1,0,0] trae un 1 donde crea que es la prediccion\n",
    "  result = array[0] #nos devuelve una dimension [0,0,0,0,0,0,1]\n",
    "  answer = np.argmax(result) #trae el indice del valor mas alto #6\n",
    "  \n",
    "  if answer==0:\n",
    "    print(\"\\nPred: Acaro\")\n",
    "    print(\"Se Recomienda usar Ovicidas: (Acaristop)\")\n",
    "\n",
    "  elif answer==1:\n",
    "    print(\"\\nPred: Barrenador de Tallo\")\n",
    "    print(\"Se Recomienda usar Proclaim5\")\n",
    "\n",
    "  elif answer==2:\n",
    "    print(\"\\nPred: Escarabajo\")\n",
    "    print(\"Se Recomienda usar Lexan\")\n",
    "  \n",
    "  elif answer==3:\n",
    "    print(\"\\nPred: Gusano Cogollero\")\n",
    "    print(\"Se Recomienda usar Gusanol\")\n",
    "  \n",
    "  elif answer==4:\n",
    "    print(\"\\nPred: Mosca de Sierra\")\n",
    "    print(\"Se Recomienda usar Shermann\")\n",
    "\n",
    "  elif answer==5:\n",
    "    print(\"\\nPred: Mosquito\")\n",
    "    print(\"Se Recomienda usar Agroinco\")\n",
    "  \n",
    "  elif answer==6:\n",
    "    print(\"\\nPred: Pulgon\")\n",
    "    print(\"Se Recomienda usar Aphox\")\n",
    "\n",
    "  elif answer==7:\n",
    "    print(\"\\nPred: Saltamones\")\n",
    "    print(\"Se Recomienda usar Venerate\")\n",
    "\n",
    "  elif answer==8:\n",
    "    print(\"\\nPred: Cultivo en Excelente estado\")\n",
    "\n",
    "  return answer\n",
    "  \n",
    "##################\n",
    "#     Pruebas    #       \n",
    "##################\n",
    "\n",
    "predict('C.Sano.jpg')\n",
    "predict('pulg.jpg')\n",
    "predict('mosquito.jpg')\n",
    "predict('Salta.jpg')\n",
    "predict('Aedes.jpg')\n",
    "predict('Escarabajo.jpg')\n",
    "predict('barrea.jpg')\n"
   ]
  }
 ],
 "metadata": {
  "kernelspec": {
   "display_name": "Python 3.10.1 64-bit",
   "language": "python",
   "name": "python3"
  },
  "language_info": {
   "codemirror_mode": {
    "name": "ipython",
    "version": 3
   },
   "file_extension": ".py",
   "mimetype": "text/x-python",
   "name": "python",
   "nbconvert_exporter": "python",
   "pygments_lexer": "ipython3",
   "version": "3.10.1 (tags/v3.10.1:2cd268a, Dec  6 2021, 19:10:37) [MSC v.1929 64 bit (AMD64)]"
  },
  "orig_nbformat": 4,
  "vscode": {
   "interpreter": {
    "hash": "27f6fea6f47ae512550f0b8facdbd035a93e1dd89633f7bf2dd00a2502c71d0d"
   }
  }
 },
 "nbformat": 4,
 "nbformat_minor": 2
}
